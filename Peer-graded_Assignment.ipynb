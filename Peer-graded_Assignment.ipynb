{
 "cells": [
  {
   "cell_type": "markdown",
   "id": "d8c90e48",
   "metadata": {},
   "source": [
    "# Assignment Topic:\n",
    "### I was provided with an empty Jupyterlite notebook which I launched in the course, to complete this assignment. I needed to include a combination of markdown and code cells. I did not needed to use the Markdown cheat sheet to help me determine the appropriate syntax for my markdown.\n",
    "#### Guidelines for the submission:\n",
    "\n",
    "#### There are a total of 25 points possible for this final project.\n",
    "###### I hope I will succeed, based on the following Exercises:\n",
    "1. Exercise 2 - Create a markdown cell with the title of the notebook. (1 pt)\n",
    "2. Exercise 3 - Create a markdown cell for an introduction. (1 pt)\n",
    "3. Exercise 4 - Create a markdown cell to list data science languages. (3 pts)\n",
    "4. Exercise 5 - Create a markdown cell to list data science libraries. (3 pts)\n",
    "5. Exercise 6 - Create a markdown cell with a table of Data Science tools. (3 pts)\n",
    "6. Exercise 7 - Create a markdown cell introducing arithmetic expression examples. (1 pt)\n",
    "7. Exercise 8 - Create a code cell to multiply and add numbers.(2 pts)\n",
    "8. Exercise 9 - Create a code cell to convert minutes to hours. (2 pts)\n",
    "9. Exercise 10 -Insert a markdown cell to list Objectives. (3 pts)\n",
    "10. Exercise 11 - Create a markdown cell to indicate the Author’s name. (2 pts)\n",
    "11. Exercise 12 - Share your notebook through GitHub (3 pts)\n",
    "12. Exercise 13 - Take a screenshot of the first page of the notebook. (1 pt)\n",
    "\n",
    "__Exercise 2 - Create a markdown cell with the title of the notebook.__\n",
    "\n",
    "# Data Science Tools and Ecosystem\n",
    "\n",
    "\n",
    "__Exercise 3 - Create a markdown cell for an introduction. (1 pt)__\n",
    "\n",
    "In this notebook, Data Science Tools and Ecosystem are summarized.\n",
    "\n",
    "__Objectives:__\n",
    "<ul>\n",
    "<li>List popular languages that Data Scientists use.</li>\n",
    "<li>List commonly used libraries used by Data Scientists.</li>\n",
    "<li>Comment on Data Science tools.</li>\n",
    "</ul>\n",
    "    \n",
    "    \n",
    "__Exercise 4 - Create a markdown cell to list data science languages. (3 pts)__\n",
    "\n",
    "Some of the popular languages that Data Scientists use are:\n",
    "\n",
    "1. Python.\n",
    "2. R.\n",
    "3. SQL.\n",
    "4. Java.\n",
    "5. Julia.\n",
    "6. Scala.\n",
    "7. C/C++.\n",
    "8. JavaScript.\n",
    "    \n",
    "__Exercise 5 - Create a markdown cell to list data science libraries. (3 pts)__\n",
    "\n",
    "Some of the commonly used libraries used by Data Scientists include:\n",
    "\n",
    "1. TensorFlow.\n",
    "2. NumPy.\n",
    "3. SciPy.\n",
    "4. Pandas.\n",
    "5. Matplotlib.\n",
    "6. Keras.\n",
    "7. SciKit-Learn.\n",
    "8. PyTorch.\n",
    "9. Scrapy.\n",
    "10. BeautifulSoup.\n",
    "11. LightGBM.\n",
    "12. ELI5.\n",
    "13. Theano.\n",
    "14. NuPIC.\n",
    "15. Ramp.\n",
    "16. Pipenv.\n",
    "17. Bob.\n",
    "18. PyBrain.\n",
    "19. Caffe2.\n",
    "20. Chainer.\n",
    "    \n",
    "__Exercise 6 - Create a markdown cell with a table of Data Science tools. (3 pts)__\n",
    "\n",
    "Data Science Tools:\n",
    "\n",
    "|Data Science Tools|\n",
    " ------------------\n",
    "|SAS. It is one of those data science tools which are specifically designed for statistical operation|\t\t\n",
    "|Apache Spark|\t\t\n",
    "|BigML|\n",
    "    \n"
   ]
  },
  {
   "cell_type": "markdown",
   "id": "19bca73c",
   "metadata": {},
   "source": [
    "__Exercise 7 - Create a markdown cell introducing arithmetic expression examples. (1 pt)__\n",
    "\n",
    "Below are a few examples of evaluating arithmetic expressions in Python"
   ]
  },
  {
   "cell_type": "code",
   "execution_count": 11,
   "id": "68dfa965",
   "metadata": {},
   "outputs": [
    {
     "data": {
      "text/plain": [
       "9"
      ]
     },
     "execution_count": 11,
     "metadata": {},
     "output_type": "execute_result"
    }
   ],
   "source": [
    "# Arithmetic operations\n",
    "code = compile(\"5 + 4\", \"<string>\", \"eval\")\n",
    "eval(code)\n",
    "# Result: 9"
   ]
  },
  {
   "cell_type": "code",
   "execution_count": 12,
   "id": "1d6e4497",
   "metadata": {},
   "outputs": [
    {
     "data": {
      "text/plain": [
       "24"
      ]
     },
     "execution_count": 12,
     "metadata": {},
     "output_type": "execute_result"
    }
   ],
   "source": [
    "code1 = compile(\"(5 + 7) * 2\", \"<string>\", \"eval\")\n",
    "eval(code1)\n",
    "# Result: 24"
   ]
  },
  {
   "cell_type": "code",
   "execution_count": 13,
   "id": "6a6fc0ec",
   "metadata": {},
   "outputs": [
    {
     "data": {
      "text/plain": [
       "65449.84694978735"
      ]
     },
     "execution_count": 13,
     "metadata": {},
     "output_type": "execute_result"
    }
   ],
   "source": [
    "import math\n",
    "# Volume of a sphere\n",
    "code2 = compile(\"4 / 3 * math.pi * math.pow(25, 3)\", \"<string>\", \"eval\")\n",
    "eval(code2)\n",
    "# Result: 65449.84694978735"
   ]
  },
  {
   "cell_type": "markdown",
   "id": "0d5b4e3b",
   "metadata": {},
   "source": [
    "__Exercise 8 - Create a code cell to multiply and add numbers.(2 pts)__\n",
    "\n",
    "This a simple arithmetic expression to mutiply then add integers"
   ]
  },
  {
   "cell_type": "code",
   "execution_count": 19,
   "id": "8f963b84",
   "metadata": {},
   "outputs": [
    {
     "data": {
      "text/plain": [
       "14"
      ]
     },
     "execution_count": 19,
     "metadata": {},
     "output_type": "execute_result"
    }
   ],
   "source": [
    "(3*3)+5\n",
    "# Result: 14"
   ]
  },
  {
   "cell_type": "markdown",
   "id": "c6647175",
   "metadata": {},
   "source": [
    "__Exercise 9 - Create a code cell to convert minutes to hours. (2 pts)__\n",
    "\n",
    "This will convert 400 minutes to hours by diving by 60"
   ]
  },
  {
   "cell_type": "code",
   "execution_count": 16,
   "id": "1e64b7b6",
   "metadata": {},
   "outputs": [
    {
     "name": "stdout",
     "output_type": "stream",
     "text": [
      "0 days, 6.666666666666667 hours, 0 mins. \n"
     ]
    }
   ],
   "source": [
    "days = 0\n",
    "hours = 0\n",
    "mins = 0\n",
    "\n",
    "time = 400\n",
    "#days = time / 1440\n",
    "leftover_minutes = time % 1440\n",
    "hours = leftover_minutes / 60\n",
    "#mins = time - (days*1440) - (hours*60)\n",
    "print(str(days) + \" days, \" + str(hours) + \" hours, \" + str(mins) +  \" mins. \")\n",
    "\n",
    "# Result: 6.666666666666667 hours"
   ]
  },
  {
   "cell_type": "markdown",
   "id": "4db86573",
   "metadata": {},
   "source": [
    "__Exercise 10 -Insert a markdown cell to list Objectives.__\n",
    "\n",
    "__Objectives__\n",
    "\n",
    "Some of the popular languages that Data Scientists use are:\n",
    "\n",
    "<unorder>\n",
    "<li>Python.</li>\n",
    "<li>R.</li>\n",
    "<li>SQL.</li>\n",
    "<li>Java.</li>\n",
    "<li>Julia</li>\n",
    "</unorder>\n",
    "\n",
    "__Exercise 11 - Create a markdown cell to indicate the Author’s name.__\n",
    "\n",
    "# Author:\n",
    "Germano Costa"
   ]
  },
  {
   "cell_type": "markdown",
   "id": "ae4cb0e9",
   "metadata": {},
   "source": []
  },
  {
   "cell_type": "code",
   "execution_count": null,
   "id": "36e3f2f8",
   "metadata": {},
   "outputs": [],
   "source": []
  }
 ],
 "metadata": {
  "kernelspec": {
   "display_name": "Python 3 (ipykernel)",
   "language": "python",
   "name": "python3"
  },
  "language_info": {
   "codemirror_mode": {
    "name": "ipython",
    "version": 3
   },
   "file_extension": ".py",
   "mimetype": "text/x-python",
   "name": "python",
   "nbconvert_exporter": "python",
   "pygments_lexer": "ipython3",
   "version": "3.9.13"
  }
 },
 "nbformat": 4,
 "nbformat_minor": 5
}
